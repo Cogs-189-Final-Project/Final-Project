{
 "cells": [
  {
   "cell_type": "code",
   "execution_count": 1,
   "id": "861bcb18",
   "metadata": {},
   "outputs": [],
   "source": [
    "import scipy.io\n",
    "import pandas as pd\n",
    "import numpy as np\n",
    "import random\n",
    "import csv\n",
    "import matplotlib.pyplot as plt"
   ]
  },
  {
   "cell_type": "code",
   "execution_count": 2,
   "id": "8eaa7658",
   "metadata": {},
   "outputs": [],
   "source": [
    "data_calib_a = scipy.io.loadmat('BCICIV_1_mat\\BCICIV_calib_ds1a.mat')\n",
    "data_eval_a = scipy.io.loadmat('BCICIV_1_mat\\BCICIV_eval_ds1a.mat')"
   ]
  },
  {
   "cell_type": "code",
   "execution_count": 3,
   "id": "f55ddfb1",
   "metadata": {},
   "outputs": [
    {
     "data": {
      "text/plain": [
       "{'__header__': b'MATLAB 5.0 MAT-file, Platform: GLNXA64, Created on: Mon Jul  7 18:53:37 2008',\n",
       " '__version__': '1.0',\n",
       " '__globals__': [],\n",
       " 'mrk': array([[(array([[  2091,   2891,   3691,   4491,   5291,   6091,   6891,   7692,\n",
       "                   8492,   9292,  10092,  10892,  11692,  12492,  13292,  16294,\n",
       "                  17094,  17894,  18694,  19494,  20294,  21094,  21894,  22694,\n",
       "                  23494,  24294,  25094,  25894,  26694,  27494,  30495,  31295,\n",
       "                  32095,  32895,  33695,  34495,  35295,  36095,  36895,  37695,\n",
       "                  38495,  39295,  40095,  40895,  41695,  44696,  45496,  46296,\n",
       "                  47096,  47896,  48696,  49496,  50296,  51096,  51896,  52696,\n",
       "                  53496,  54296,  55096,  55896,  58895,  59695,  60495,  61295,\n",
       "                  62095,  62895,  63695,  64495,  65295,  66095,  66895,  67695,\n",
       "                  68495,  69295,  70095,  73094,  73894,  74694,  75495,  76295,\n",
       "                  77095,  77895,  78695,  79495,  80295,  81095,  81895,  82695,\n",
       "                  83495,  84295,  87294,  88094,  88894,  89694,  90494,  91294,\n",
       "                  92094,  92894,  93694,  94494,  97385,  98185,  98985,  99785,\n",
       "                 100585, 101385, 102185, 102985, 103785, 104585, 105385, 106185,\n",
       "                 106985, 107785, 108585, 111584, 112384, 113184, 113984, 114784,\n",
       "                 115584, 116384, 117184, 117984, 118785, 119585, 120385, 121185,\n",
       "                 121985, 122785, 125787, 126587, 127387, 128187, 128987, 129787,\n",
       "                 130587, 131387, 132187, 132987, 133787, 134587, 135387, 136187,\n",
       "                 136987, 139986, 140786, 141586, 142386, 143186, 143986, 144786,\n",
       "                 145586, 146386, 147186, 147986, 148786, 149586, 150386, 151186,\n",
       "                 154185, 154985, 155785, 156585, 157385, 158185, 158985, 159785,\n",
       "                 160586, 161386, 162186, 162986, 163786, 164586, 165386, 168385,\n",
       "                 169185, 169985, 170785, 171585, 172385, 173185, 173985, 174785,\n",
       "                 175585, 176385, 177185, 177985, 178785, 179585, 182584, 183384,\n",
       "                 184184, 184984, 185784, 186584, 187384, 188184, 188984, 189784]]), array([[ 1,  1, -1,  1,  1,  1,  1, -1, -1,  1, -1,  1, -1, -1, -1,  1,\n",
       "                 -1, -1,  1, -1,  1,  1, -1, -1, -1, -1, -1,  1, -1, -1, -1, -1,\n",
       "                 -1, -1, -1, -1, -1,  1,  1,  1, -1, -1,  1, -1,  1, -1,  1,  1,\n",
       "                  1,  1,  1,  1,  1, -1,  1,  1,  1,  1,  1,  1, -1, -1, -1, -1,\n",
       "                  1, -1,  1, -1,  1, -1, -1, -1,  1, -1, -1, -1,  1, -1,  1, -1,\n",
       "                 -1, -1,  1,  1,  1, -1,  1,  1,  1, -1, -1,  1,  1,  1,  1, -1,\n",
       "                  1,  1, -1,  1, -1,  1,  1,  1, -1,  1,  1, -1,  1, -1,  1, -1,\n",
       "                 -1, -1, -1,  1,  1, -1,  1,  1,  1,  1, -1,  1, -1, -1,  1,  1,\n",
       "                 -1, -1,  1,  1,  1,  1,  1,  1,  1, -1, -1, -1, -1,  1, -1, -1,\n",
       "                  1, -1, -1, -1,  1,  1, -1, -1,  1,  1, -1,  1,  1,  1,  1, -1,\n",
       "                  1, -1,  1, -1,  1, -1, -1, -1, -1, -1,  1,  1,  1,  1, -1, -1,\n",
       "                 -1, -1, -1,  1,  1, -1,  1, -1, -1, -1,  1, -1,  1, -1,  1, -1,\n",
       "                 -1,  1, -1, -1, -1,  1,  1,  1]], dtype=int16))                                                                                           ]],\n",
       "       dtype=[('pos', 'O'), ('y', 'O')]),\n",
       " 'cnt': array([[  -3,   -3,   -3, ...,    2,    7,    5],\n",
       "        [ -25,  -21,  -26, ...,   19,   60,   45],\n",
       "        [ -34,  -15,  -52, ...,   37,  130,   98],\n",
       "        ...,\n",
       "        [2524, 2672, 2347, ..., 1167, 1620, 1205],\n",
       "        [2561, 2706, 2385, ..., 1249, 1693, 1210],\n",
       "        [2606, 2759, 2457, ..., 1366, 1838, 1263]], dtype=int16),\n",
       " 'nfo': array([[(array([[100]], dtype=uint8), array([[array(['left'], dtype='<U4'), array(['foot'], dtype='<U4')]],\n",
       "               dtype=object), array([[array(['AF3'], dtype='<U3'), array(['AF4'], dtype='<U3'),\n",
       "                 array(['F5'], dtype='<U2'), array(['F3'], dtype='<U2'),\n",
       "                 array(['F1'], dtype='<U2'), array(['Fz'], dtype='<U2'),\n",
       "                 array(['F2'], dtype='<U2'), array(['F4'], dtype='<U2'),\n",
       "                 array(['F6'], dtype='<U2'), array(['FC5'], dtype='<U3'),\n",
       "                 array(['FC3'], dtype='<U3'), array(['FC1'], dtype='<U3'),\n",
       "                 array(['FCz'], dtype='<U3'), array(['FC2'], dtype='<U3'),\n",
       "                 array(['FC4'], dtype='<U3'), array(['FC6'], dtype='<U3'),\n",
       "                 array(['CFC7'], dtype='<U4'), array(['CFC5'], dtype='<U4'),\n",
       "                 array(['CFC3'], dtype='<U4'), array(['CFC1'], dtype='<U4'),\n",
       "                 array(['CFC2'], dtype='<U4'), array(['CFC4'], dtype='<U4'),\n",
       "                 array(['CFC6'], dtype='<U4'), array(['CFC8'], dtype='<U4'),\n",
       "                 array(['T7'], dtype='<U2'), array(['C5'], dtype='<U2'),\n",
       "                 array(['C3'], dtype='<U2'), array(['C1'], dtype='<U2'),\n",
       "                 array(['Cz'], dtype='<U2'), array(['C2'], dtype='<U2'),\n",
       "                 array(['C4'], dtype='<U2'), array(['C6'], dtype='<U2'),\n",
       "                 array(['T8'], dtype='<U2'), array(['CCP7'], dtype='<U4'),\n",
       "                 array(['CCP5'], dtype='<U4'), array(['CCP3'], dtype='<U4'),\n",
       "                 array(['CCP1'], dtype='<U4'), array(['CCP2'], dtype='<U4'),\n",
       "                 array(['CCP4'], dtype='<U4'), array(['CCP6'], dtype='<U4'),\n",
       "                 array(['CCP8'], dtype='<U4'), array(['CP5'], dtype='<U3'),\n",
       "                 array(['CP3'], dtype='<U3'), array(['CP1'], dtype='<U3'),\n",
       "                 array(['CPz'], dtype='<U3'), array(['CP2'], dtype='<U3'),\n",
       "                 array(['CP4'], dtype='<U3'), array(['CP6'], dtype='<U3'),\n",
       "                 array(['P5'], dtype='<U2'), array(['P3'], dtype='<U2'),\n",
       "                 array(['P1'], dtype='<U2'), array(['Pz'], dtype='<U2'),\n",
       "                 array(['P2'], dtype='<U2'), array(['P4'], dtype='<U2'),\n",
       "                 array(['P6'], dtype='<U2'), array(['PO1'], dtype='<U3'),\n",
       "                 array(['PO2'], dtype='<U3'), array(['O1'], dtype='<U2'),\n",
       "                 array(['O2'], dtype='<U2')]], dtype=object), array([[-0.20109028],\n",
       "                [ 0.20109028],\n",
       "                [-0.48547489],\n",
       "                [-0.32894737],\n",
       "                [-0.16535231],\n",
       "                [ 0.        ],\n",
       "                [ 0.16535231],\n",
       "                [ 0.32894737],\n",
       "                [ 0.48547489],\n",
       "                [-0.60591541],\n",
       "                [-0.39919579],\n",
       "                [-0.19765935],\n",
       "                [ 0.        ],\n",
       "                [ 0.19765935],\n",
       "                [ 0.39919579],\n",
       "                [ 0.60591541],\n",
       "                [-0.74834683],\n",
       "                [-0.52472976],\n",
       "                [-0.30963911],\n",
       "                [-0.10226303],\n",
       "                [ 0.10226303],\n",
       "                [ 0.30963911],\n",
       "                [ 0.52472976],\n",
       "                [ 0.74834683],\n",
       "                [-0.87719298],\n",
       "                [-0.64569058],\n",
       "                [-0.421549  ],\n",
       "                [-0.20773757],\n",
       "                [ 0.        ],\n",
       "                [ 0.20773757],\n",
       "                [ 0.421549  ],\n",
       "                [ 0.64569058],\n",
       "                [ 0.87719298],\n",
       "                [-0.74834683],\n",
       "                [-0.52472976],\n",
       "                [-0.30963911],\n",
       "                [-0.10226303],\n",
       "                [ 0.10226303],\n",
       "                [ 0.30963911],\n",
       "                [ 0.52472976],\n",
       "                [ 0.74834683],\n",
       "                [-0.60591541],\n",
       "                [-0.39919579],\n",
       "                [-0.19765935],\n",
       "                [ 0.        ],\n",
       "                [ 0.19765935],\n",
       "                [ 0.39919579],\n",
       "                [ 0.60591541],\n",
       "                [-0.48547489],\n",
       "                [-0.32894737],\n",
       "                [-0.16535231],\n",
       "                [ 0.        ],\n",
       "                [ 0.16535231],\n",
       "                [ 0.32894737],\n",
       "                [ 0.48547489],\n",
       "                [-0.10395865],\n",
       "                [ 0.10395865],\n",
       "                [-0.17113186],\n",
       "                [ 0.17113186]]), array([[ 0.68656518],\n",
       "                [ 0.68656518],\n",
       "                [ 0.52547424],\n",
       "                [ 0.46520183],\n",
       "                [ 0.43208641],\n",
       "                [ 0.421549  ],\n",
       "                [ 0.43208641],\n",
       "                [ 0.46520183],\n",
       "                [ 0.52547424],\n",
       "                [ 0.27165704],\n",
       "                [ 0.23384348],\n",
       "                [ 0.21394494],\n",
       "                [ 0.20773757],\n",
       "                [ 0.21394494],\n",
       "                [ 0.23384348],\n",
       "                [ 0.27165704],\n",
       "                [ 0.15177169],\n",
       "                [ 0.12553103],\n",
       "                [ 0.11086096],\n",
       "                [ 0.10426648],\n",
       "                [ 0.10426648],\n",
       "                [ 0.11086096],\n",
       "                [ 0.12553103],\n",
       "                [ 0.15177169],\n",
       "                [ 0.        ],\n",
       "                [ 0.        ],\n",
       "                [ 0.        ],\n",
       "                [ 0.        ],\n",
       "                [ 0.        ],\n",
       "                [ 0.        ],\n",
       "                [ 0.        ],\n",
       "                [ 0.        ],\n",
       "                [ 0.        ],\n",
       "                [-0.15177169],\n",
       "                [-0.12553103],\n",
       "                [-0.11086096],\n",
       "                [-0.10426648],\n",
       "                [-0.10426648],\n",
       "                [-0.11086096],\n",
       "                [-0.12553103],\n",
       "                [-0.15177169],\n",
       "                [-0.27165704],\n",
       "                [-0.23384348],\n",
       "                [-0.21394494],\n",
       "                [-0.20773757],\n",
       "                [-0.21394494],\n",
       "                [-0.23384348],\n",
       "                [-0.27165704],\n",
       "                [-0.52547424],\n",
       "                [-0.46520183],\n",
       "                [-0.43208641],\n",
       "                [-0.421549  ],\n",
       "                [-0.43208641],\n",
       "                [-0.46520183],\n",
       "                [-0.52547424],\n",
       "                [-0.65583812],\n",
       "                [-0.65583812],\n",
       "                [-0.86033797],\n",
       "                [-0.86033797]]))                                                                            ]],\n",
       "       dtype=[('fs', 'O'), ('classes', 'O'), ('clab', 'O'), ('xpos', 'O'), ('ypos', 'O')])}"
      ]
     },
     "execution_count": 3,
     "metadata": {},
     "output_type": "execute_result"
    }
   ],
   "source": [
    "data_calib_a"
   ]
  },
  {
   "cell_type": "code",
   "execution_count": 4,
   "id": "447ffad9",
   "metadata": {},
   "outputs": [
    {
     "data": {
      "text/plain": [
       "dict_keys(['__header__', '__version__', '__globals__', 'mrk', 'cnt', 'nfo'])"
      ]
     },
     "execution_count": 4,
     "metadata": {},
     "output_type": "execute_result"
    }
   ],
   "source": [
    "data_calib_a.keys()"
   ]
  },
  {
   "cell_type": "code",
   "execution_count": 5,
   "id": "3f271ccd",
   "metadata": {},
   "outputs": [
    {
     "data": {
      "text/plain": [
       "b'MATLAB 5.0 MAT-file, Platform: GLNXA64, Created on: Mon Jul  7 18:53:37 2008'"
      ]
     },
     "execution_count": 5,
     "metadata": {},
     "output_type": "execute_result"
    }
   ],
   "source": [
    "data_calib_a[\"__header__\"]"
   ]
  },
  {
   "cell_type": "code",
   "execution_count": 6,
   "id": "810b6d87",
   "metadata": {},
   "outputs": [
    {
     "data": {
      "text/plain": [
       "'1.0'"
      ]
     },
     "execution_count": 6,
     "metadata": {},
     "output_type": "execute_result"
    }
   ],
   "source": [
    "data_calib_a[\"__version__\"]"
   ]
  },
  {
   "cell_type": "code",
   "execution_count": 7,
   "id": "138aeb46",
   "metadata": {},
   "outputs": [
    {
     "data": {
      "text/plain": [
       "[]"
      ]
     },
     "execution_count": 7,
     "metadata": {},
     "output_type": "execute_result"
    }
   ],
   "source": [
    "data_calib_a[\"__globals__\"]"
   ]
  },
  {
   "cell_type": "markdown",
   "id": "7ce39b01",
   "metadata": {},
   "source": [
    "## mrk: structure of target cue information with fields (the file of evaluation data does not contain this variable)\n",
    " - pos: vector of positions of the cue in the EEG signals given in unit sample, length #cues\n",
    " - y: vector of target classes (-1 for class one or 1 for class two), length #cues"
   ]
  },
  {
   "cell_type": "code",
   "execution_count": 8,
   "id": "6db2daf7",
   "metadata": {},
   "outputs": [
    {
     "data": {
      "text/plain": [
       "array([[(array([[  2091,   2891,   3691,   4491,   5291,   6091,   6891,   7692,\n",
       "                  8492,   9292,  10092,  10892,  11692,  12492,  13292,  16294,\n",
       "                 17094,  17894,  18694,  19494,  20294,  21094,  21894,  22694,\n",
       "                 23494,  24294,  25094,  25894,  26694,  27494,  30495,  31295,\n",
       "                 32095,  32895,  33695,  34495,  35295,  36095,  36895,  37695,\n",
       "                 38495,  39295,  40095,  40895,  41695,  44696,  45496,  46296,\n",
       "                 47096,  47896,  48696,  49496,  50296,  51096,  51896,  52696,\n",
       "                 53496,  54296,  55096,  55896,  58895,  59695,  60495,  61295,\n",
       "                 62095,  62895,  63695,  64495,  65295,  66095,  66895,  67695,\n",
       "                 68495,  69295,  70095,  73094,  73894,  74694,  75495,  76295,\n",
       "                 77095,  77895,  78695,  79495,  80295,  81095,  81895,  82695,\n",
       "                 83495,  84295,  87294,  88094,  88894,  89694,  90494,  91294,\n",
       "                 92094,  92894,  93694,  94494,  97385,  98185,  98985,  99785,\n",
       "                100585, 101385, 102185, 102985, 103785, 104585, 105385, 106185,\n",
       "                106985, 107785, 108585, 111584, 112384, 113184, 113984, 114784,\n",
       "                115584, 116384, 117184, 117984, 118785, 119585, 120385, 121185,\n",
       "                121985, 122785, 125787, 126587, 127387, 128187, 128987, 129787,\n",
       "                130587, 131387, 132187, 132987, 133787, 134587, 135387, 136187,\n",
       "                136987, 139986, 140786, 141586, 142386, 143186, 143986, 144786,\n",
       "                145586, 146386, 147186, 147986, 148786, 149586, 150386, 151186,\n",
       "                154185, 154985, 155785, 156585, 157385, 158185, 158985, 159785,\n",
       "                160586, 161386, 162186, 162986, 163786, 164586, 165386, 168385,\n",
       "                169185, 169985, 170785, 171585, 172385, 173185, 173985, 174785,\n",
       "                175585, 176385, 177185, 177985, 178785, 179585, 182584, 183384,\n",
       "                184184, 184984, 185784, 186584, 187384, 188184, 188984, 189784]]), array([[ 1,  1, -1,  1,  1,  1,  1, -1, -1,  1, -1,  1, -1, -1, -1,  1,\n",
       "                -1, -1,  1, -1,  1,  1, -1, -1, -1, -1, -1,  1, -1, -1, -1, -1,\n",
       "                -1, -1, -1, -1, -1,  1,  1,  1, -1, -1,  1, -1,  1, -1,  1,  1,\n",
       "                 1,  1,  1,  1,  1, -1,  1,  1,  1,  1,  1,  1, -1, -1, -1, -1,\n",
       "                 1, -1,  1, -1,  1, -1, -1, -1,  1, -1, -1, -1,  1, -1,  1, -1,\n",
       "                -1, -1,  1,  1,  1, -1,  1,  1,  1, -1, -1,  1,  1,  1,  1, -1,\n",
       "                 1,  1, -1,  1, -1,  1,  1,  1, -1,  1,  1, -1,  1, -1,  1, -1,\n",
       "                -1, -1, -1,  1,  1, -1,  1,  1,  1,  1, -1,  1, -1, -1,  1,  1,\n",
       "                -1, -1,  1,  1,  1,  1,  1,  1,  1, -1, -1, -1, -1,  1, -1, -1,\n",
       "                 1, -1, -1, -1,  1,  1, -1, -1,  1,  1, -1,  1,  1,  1,  1, -1,\n",
       "                 1, -1,  1, -1,  1, -1, -1, -1, -1, -1,  1,  1,  1,  1, -1, -1,\n",
       "                -1, -1, -1,  1,  1, -1,  1, -1, -1, -1,  1, -1,  1, -1,  1, -1,\n",
       "                -1,  1, -1, -1, -1,  1,  1,  1]], dtype=int16))                                                                                           ]],\n",
       "      dtype=[('pos', 'O'), ('y', 'O')])"
      ]
     },
     "execution_count": 8,
     "metadata": {},
     "output_type": "execute_result"
    }
   ],
   "source": [
    "data_calib_a[\"mrk\"]"
   ]
  },
  {
   "cell_type": "markdown",
   "id": "490938bd",
   "metadata": {},
   "source": [
    "## pos: vector of positions of the cue in the EEG signals given in unit sample, length #cues"
   ]
  },
  {
   "cell_type": "code",
   "execution_count": 75,
   "id": "8a46acc8",
   "metadata": {},
   "outputs": [
    {
     "data": {
      "text/plain": [
       "array([  2091,   2891,   3691,   4491,   5291,   6091,   6891,   7692,\n",
       "         8492,   9292,  10092,  10892,  11692,  12492,  13292,  16294,\n",
       "        17094,  17894,  18694,  19494,  20294,  21094,  21894,  22694,\n",
       "        23494,  24294,  25094,  25894,  26694,  27494,  30495,  31295,\n",
       "        32095,  32895,  33695,  34495,  35295,  36095,  36895,  37695,\n",
       "        38495,  39295,  40095,  40895,  41695,  44696,  45496,  46296,\n",
       "        47096,  47896,  48696,  49496,  50296,  51096,  51896,  52696,\n",
       "        53496,  54296,  55096,  55896,  58895,  59695,  60495,  61295,\n",
       "        62095,  62895,  63695,  64495,  65295,  66095,  66895,  67695,\n",
       "        68495,  69295,  70095,  73094,  73894,  74694,  75495,  76295,\n",
       "        77095,  77895,  78695,  79495,  80295,  81095,  81895,  82695,\n",
       "        83495,  84295,  87294,  88094,  88894,  89694,  90494,  91294,\n",
       "        92094,  92894,  93694,  94494,  97385,  98185,  98985,  99785,\n",
       "       100585, 101385, 102185, 102985, 103785, 104585, 105385, 106185,\n",
       "       106985, 107785, 108585, 111584, 112384, 113184, 113984, 114784,\n",
       "       115584, 116384, 117184, 117984, 118785, 119585, 120385, 121185,\n",
       "       121985, 122785, 125787, 126587, 127387, 128187, 128987, 129787,\n",
       "       130587, 131387, 132187, 132987, 133787, 134587, 135387, 136187,\n",
       "       136987, 139986, 140786, 141586, 142386, 143186, 143986, 144786,\n",
       "       145586, 146386, 147186, 147986, 148786, 149586, 150386, 151186,\n",
       "       154185, 154985, 155785, 156585, 157385, 158185, 158985, 159785,\n",
       "       160586, 161386, 162186, 162986, 163786, 164586, 165386, 168385,\n",
       "       169185, 169985, 170785, 171585, 172385, 173185, 173985, 174785,\n",
       "       175585, 176385, 177185, 177985, 178785, 179585, 182584, 183384,\n",
       "       184184, 184984, 185784, 186584, 187384, 188184, 188984, 189784])"
      ]
     },
     "execution_count": 75,
     "metadata": {},
     "output_type": "execute_result"
    }
   ],
   "source": [
    "pos = data_calib_a[\"mrk\"][\"pos\"][0][0][0]\n",
    "pos"
   ]
  },
  {
   "cell_type": "code",
   "execution_count": 81,
   "id": "3276e5b2",
   "metadata": {},
   "outputs": [
    {
     "data": {
      "text/plain": [
       "(200,)"
      ]
     },
     "execution_count": 81,
     "metadata": {},
     "output_type": "execute_result"
    }
   ],
   "source": [
    "pos.shape"
   ]
  },
  {
   "cell_type": "markdown",
   "id": "41f2752d",
   "metadata": {},
   "source": [
    "## y: vector of target classes (-1 for class one or 1 for class two), length #cues"
   ]
  },
  {
   "cell_type": "code",
   "execution_count": 80,
   "id": "0cee5c04",
   "metadata": {},
   "outputs": [
    {
     "data": {
      "text/plain": [
       "array([ 1,  1, -1,  1,  1,  1,  1, -1, -1,  1, -1,  1, -1, -1, -1,  1, -1,\n",
       "       -1,  1, -1,  1,  1, -1, -1, -1, -1, -1,  1, -1, -1, -1, -1, -1, -1,\n",
       "       -1, -1, -1,  1,  1,  1, -1, -1,  1, -1,  1, -1,  1,  1,  1,  1,  1,\n",
       "        1,  1, -1,  1,  1,  1,  1,  1,  1, -1, -1, -1, -1,  1, -1,  1, -1,\n",
       "        1, -1, -1, -1,  1, -1, -1, -1,  1, -1,  1, -1, -1, -1,  1,  1,  1,\n",
       "       -1,  1,  1,  1, -1, -1,  1,  1,  1,  1, -1,  1,  1, -1,  1, -1,  1,\n",
       "        1,  1, -1,  1,  1, -1,  1, -1,  1, -1, -1, -1, -1,  1,  1, -1,  1,\n",
       "        1,  1,  1, -1,  1, -1, -1,  1,  1, -1, -1,  1,  1,  1,  1,  1,  1,\n",
       "        1, -1, -1, -1, -1,  1, -1, -1,  1, -1, -1, -1,  1,  1, -1, -1,  1,\n",
       "        1, -1,  1,  1,  1,  1, -1,  1, -1,  1, -1,  1, -1, -1, -1, -1, -1,\n",
       "        1,  1,  1,  1, -1, -1, -1, -1, -1,  1,  1, -1,  1, -1, -1, -1,  1,\n",
       "       -1,  1, -1,  1, -1, -1,  1, -1, -1, -1,  1,  1,  1], dtype=int16)"
      ]
     },
     "execution_count": 80,
     "metadata": {},
     "output_type": "execute_result"
    }
   ],
   "source": [
    "target_class = data_calib_a[\"mrk\"][\"y\"][0][0][0]\n",
    "target_class"
   ]
  },
  {
   "cell_type": "code",
   "execution_count": 82,
   "id": "728b741d",
   "metadata": {},
   "outputs": [
    {
     "data": {
      "text/plain": [
       "(200,)"
      ]
     },
     "execution_count": 82,
     "metadata": {},
     "output_type": "execute_result"
    }
   ],
   "source": [
    "target_class.shape"
   ]
  },
  {
   "cell_type": "markdown",
   "id": "1cf47b7b",
   "metadata": {},
   "source": [
    "## cnt: the continuous EEG signals, size [time x channels]. To convert it to uV values, use cnt= 0.1*double(cnt)"
   ]
  },
  {
   "cell_type": "code",
   "execution_count": 85,
   "id": "dcfae7b2",
   "metadata": {},
   "outputs": [
    {
     "data": {
      "text/plain": [
       "array([[  -3,   -3,   -3, ...,    2,    7,    5],\n",
       "       [ -25,  -21,  -26, ...,   19,   60,   45],\n",
       "       [ -34,  -15,  -52, ...,   37,  130,   98],\n",
       "       ...,\n",
       "       [2524, 2672, 2347, ..., 1167, 1620, 1205],\n",
       "       [2561, 2706, 2385, ..., 1249, 1693, 1210],\n",
       "       [2606, 2759, 2457, ..., 1366, 1838, 1263]], dtype=int16)"
      ]
     },
     "execution_count": 85,
     "metadata": {},
     "output_type": "execute_result"
    }
   ],
   "source": [
    "cnt = data_calib_a[\"cnt\"]\n",
    "cnt"
   ]
  },
  {
   "cell_type": "code",
   "execution_count": 86,
   "id": "079848bc",
   "metadata": {},
   "outputs": [
    {
     "data": {
      "text/plain": [
       "(190594, 59)"
      ]
     },
     "execution_count": 86,
     "metadata": {},
     "output_type": "execute_result"
    }
   ],
   "source": [
    "cnt.shape"
   ]
  },
  {
   "cell_type": "markdown",
   "id": "76673ef7",
   "metadata": {},
   "source": [
    "## nfo: structure providing additional information with fields\n",
    "- fs: sampling rate,\n",
    "- clab: cell array of channel labels,\n",
    "- classes: cell array of the names of the motor imagery classes,\n",
    "- xpos: x-position of electrodes in a 2d-projection,\n",
    "- ypos: y-position of electrodes in a 2d-projection."
   ]
  },
  {
   "cell_type": "code",
   "execution_count": 87,
   "id": "91df1019",
   "metadata": {},
   "outputs": [
    {
     "data": {
      "text/plain": [
       "array([[(array([[100]], dtype=uint8), array([[array(['left'], dtype='<U4'), array(['foot'], dtype='<U4')]],\n",
       "              dtype=object), array([[array(['AF3'], dtype='<U3'), array(['AF4'], dtype='<U3'),\n",
       "                array(['F5'], dtype='<U2'), array(['F3'], dtype='<U2'),\n",
       "                array(['F1'], dtype='<U2'), array(['Fz'], dtype='<U2'),\n",
       "                array(['F2'], dtype='<U2'), array(['F4'], dtype='<U2'),\n",
       "                array(['F6'], dtype='<U2'), array(['FC5'], dtype='<U3'),\n",
       "                array(['FC3'], dtype='<U3'), array(['FC1'], dtype='<U3'),\n",
       "                array(['FCz'], dtype='<U3'), array(['FC2'], dtype='<U3'),\n",
       "                array(['FC4'], dtype='<U3'), array(['FC6'], dtype='<U3'),\n",
       "                array(['CFC7'], dtype='<U4'), array(['CFC5'], dtype='<U4'),\n",
       "                array(['CFC3'], dtype='<U4'), array(['CFC1'], dtype='<U4'),\n",
       "                array(['CFC2'], dtype='<U4'), array(['CFC4'], dtype='<U4'),\n",
       "                array(['CFC6'], dtype='<U4'), array(['CFC8'], dtype='<U4'),\n",
       "                array(['T7'], dtype='<U2'), array(['C5'], dtype='<U2'),\n",
       "                array(['C3'], dtype='<U2'), array(['C1'], dtype='<U2'),\n",
       "                array(['Cz'], dtype='<U2'), array(['C2'], dtype='<U2'),\n",
       "                array(['C4'], dtype='<U2'), array(['C6'], dtype='<U2'),\n",
       "                array(['T8'], dtype='<U2'), array(['CCP7'], dtype='<U4'),\n",
       "                array(['CCP5'], dtype='<U4'), array(['CCP3'], dtype='<U4'),\n",
       "                array(['CCP1'], dtype='<U4'), array(['CCP2'], dtype='<U4'),\n",
       "                array(['CCP4'], dtype='<U4'), array(['CCP6'], dtype='<U4'),\n",
       "                array(['CCP8'], dtype='<U4'), array(['CP5'], dtype='<U3'),\n",
       "                array(['CP3'], dtype='<U3'), array(['CP1'], dtype='<U3'),\n",
       "                array(['CPz'], dtype='<U3'), array(['CP2'], dtype='<U3'),\n",
       "                array(['CP4'], dtype='<U3'), array(['CP6'], dtype='<U3'),\n",
       "                array(['P5'], dtype='<U2'), array(['P3'], dtype='<U2'),\n",
       "                array(['P1'], dtype='<U2'), array(['Pz'], dtype='<U2'),\n",
       "                array(['P2'], dtype='<U2'), array(['P4'], dtype='<U2'),\n",
       "                array(['P6'], dtype='<U2'), array(['PO1'], dtype='<U3'),\n",
       "                array(['PO2'], dtype='<U3'), array(['O1'], dtype='<U2'),\n",
       "                array(['O2'], dtype='<U2')]], dtype=object), array([[-0.20109028],\n",
       "               [ 0.20109028],\n",
       "               [-0.48547489],\n",
       "               [-0.32894737],\n",
       "               [-0.16535231],\n",
       "               [ 0.        ],\n",
       "               [ 0.16535231],\n",
       "               [ 0.32894737],\n",
       "               [ 0.48547489],\n",
       "               [-0.60591541],\n",
       "               [-0.39919579],\n",
       "               [-0.19765935],\n",
       "               [ 0.        ],\n",
       "               [ 0.19765935],\n",
       "               [ 0.39919579],\n",
       "               [ 0.60591541],\n",
       "               [-0.74834683],\n",
       "               [-0.52472976],\n",
       "               [-0.30963911],\n",
       "               [-0.10226303],\n",
       "               [ 0.10226303],\n",
       "               [ 0.30963911],\n",
       "               [ 0.52472976],\n",
       "               [ 0.74834683],\n",
       "               [-0.87719298],\n",
       "               [-0.64569058],\n",
       "               [-0.421549  ],\n",
       "               [-0.20773757],\n",
       "               [ 0.        ],\n",
       "               [ 0.20773757],\n",
       "               [ 0.421549  ],\n",
       "               [ 0.64569058],\n",
       "               [ 0.87719298],\n",
       "               [-0.74834683],\n",
       "               [-0.52472976],\n",
       "               [-0.30963911],\n",
       "               [-0.10226303],\n",
       "               [ 0.10226303],\n",
       "               [ 0.30963911],\n",
       "               [ 0.52472976],\n",
       "               [ 0.74834683],\n",
       "               [-0.60591541],\n",
       "               [-0.39919579],\n",
       "               [-0.19765935],\n",
       "               [ 0.        ],\n",
       "               [ 0.19765935],\n",
       "               [ 0.39919579],\n",
       "               [ 0.60591541],\n",
       "               [-0.48547489],\n",
       "               [-0.32894737],\n",
       "               [-0.16535231],\n",
       "               [ 0.        ],\n",
       "               [ 0.16535231],\n",
       "               [ 0.32894737],\n",
       "               [ 0.48547489],\n",
       "               [-0.10395865],\n",
       "               [ 0.10395865],\n",
       "               [-0.17113186],\n",
       "               [ 0.17113186]]), array([[ 0.68656518],\n",
       "               [ 0.68656518],\n",
       "               [ 0.52547424],\n",
       "               [ 0.46520183],\n",
       "               [ 0.43208641],\n",
       "               [ 0.421549  ],\n",
       "               [ 0.43208641],\n",
       "               [ 0.46520183],\n",
       "               [ 0.52547424],\n",
       "               [ 0.27165704],\n",
       "               [ 0.23384348],\n",
       "               [ 0.21394494],\n",
       "               [ 0.20773757],\n",
       "               [ 0.21394494],\n",
       "               [ 0.23384348],\n",
       "               [ 0.27165704],\n",
       "               [ 0.15177169],\n",
       "               [ 0.12553103],\n",
       "               [ 0.11086096],\n",
       "               [ 0.10426648],\n",
       "               [ 0.10426648],\n",
       "               [ 0.11086096],\n",
       "               [ 0.12553103],\n",
       "               [ 0.15177169],\n",
       "               [ 0.        ],\n",
       "               [ 0.        ],\n",
       "               [ 0.        ],\n",
       "               [ 0.        ],\n",
       "               [ 0.        ],\n",
       "               [ 0.        ],\n",
       "               [ 0.        ],\n",
       "               [ 0.        ],\n",
       "               [ 0.        ],\n",
       "               [-0.15177169],\n",
       "               [-0.12553103],\n",
       "               [-0.11086096],\n",
       "               [-0.10426648],\n",
       "               [-0.10426648],\n",
       "               [-0.11086096],\n",
       "               [-0.12553103],\n",
       "               [-0.15177169],\n",
       "               [-0.27165704],\n",
       "               [-0.23384348],\n",
       "               [-0.21394494],\n",
       "               [-0.20773757],\n",
       "               [-0.21394494],\n",
       "               [-0.23384348],\n",
       "               [-0.27165704],\n",
       "               [-0.52547424],\n",
       "               [-0.46520183],\n",
       "               [-0.43208641],\n",
       "               [-0.421549  ],\n",
       "               [-0.43208641],\n",
       "               [-0.46520183],\n",
       "               [-0.52547424],\n",
       "               [-0.65583812],\n",
       "               [-0.65583812],\n",
       "               [-0.86033797],\n",
       "               [-0.86033797]]))                                                                            ]],\n",
       "      dtype=[('fs', 'O'), ('classes', 'O'), ('clab', 'O'), ('xpos', 'O'), ('ypos', 'O')])"
      ]
     },
     "execution_count": 87,
     "metadata": {},
     "output_type": "execute_result"
    }
   ],
   "source": [
    "data_calib_a[\"nfo\"]"
   ]
  },
  {
   "cell_type": "markdown",
   "id": "759697b6",
   "metadata": {},
   "source": [
    "## fs: sampling rate - 100 in this case"
   ]
  },
  {
   "cell_type": "code",
   "execution_count": 24,
   "id": "cecedff8",
   "metadata": {},
   "outputs": [
    {
     "data": {
      "text/plain": [
       "array([[array([[100]], dtype=uint8)]], dtype=object)"
      ]
     },
     "execution_count": 24,
     "metadata": {},
     "output_type": "execute_result"
    }
   ],
   "source": [
    "data_calib_a[\"nfo\"][\"fs\"]"
   ]
  },
  {
   "cell_type": "markdown",
   "id": "ecb75ca7",
   "metadata": {},
   "source": [
    "## classes: cell array of the names of the motor imagery classes,"
   ]
  },
  {
   "cell_type": "code",
   "execution_count": 16,
   "id": "e34fa10f",
   "metadata": {},
   "outputs": [
    {
     "data": {
      "text/plain": [
       "array([[array([[array(['left'], dtype='<U4'), array(['foot'], dtype='<U4')]],\n",
       "              dtype=object)                                                  ]],\n",
       "      dtype=object)"
      ]
     },
     "execution_count": 16,
     "metadata": {},
     "output_type": "execute_result"
    }
   ],
   "source": [
    "data_calib_a[\"nfo\"][\"classes\"]"
   ]
  },
  {
   "cell_type": "markdown",
   "id": "7ff32db3",
   "metadata": {},
   "source": [
    "## clab: cell array of channel labels"
   ]
  },
  {
   "cell_type": "code",
   "execution_count": 45,
   "id": "38ac1324",
   "metadata": {},
   "outputs": [
    {
     "data": {
      "text/plain": [
       "array([array(['AF3'], dtype='<U3'), array(['AF4'], dtype='<U3'),\n",
       "       array(['F5'], dtype='<U2'), array(['F3'], dtype='<U2'),\n",
       "       array(['F1'], dtype='<U2'), array(['Fz'], dtype='<U2'),\n",
       "       array(['F2'], dtype='<U2'), array(['F4'], dtype='<U2'),\n",
       "       array(['F6'], dtype='<U2'), array(['FC5'], dtype='<U3'),\n",
       "       array(['FC3'], dtype='<U3'), array(['FC1'], dtype='<U3'),\n",
       "       array(['FCz'], dtype='<U3'), array(['FC2'], dtype='<U3'),\n",
       "       array(['FC4'], dtype='<U3'), array(['FC6'], dtype='<U3'),\n",
       "       array(['CFC7'], dtype='<U4'), array(['CFC5'], dtype='<U4'),\n",
       "       array(['CFC3'], dtype='<U4'), array(['CFC1'], dtype='<U4'),\n",
       "       array(['CFC2'], dtype='<U4'), array(['CFC4'], dtype='<U4'),\n",
       "       array(['CFC6'], dtype='<U4'), array(['CFC8'], dtype='<U4'),\n",
       "       array(['T7'], dtype='<U2'), array(['C5'], dtype='<U2'),\n",
       "       array(['C3'], dtype='<U2'), array(['C1'], dtype='<U2'),\n",
       "       array(['Cz'], dtype='<U2'), array(['C2'], dtype='<U2'),\n",
       "       array(['C4'], dtype='<U2'), array(['C6'], dtype='<U2'),\n",
       "       array(['T8'], dtype='<U2'), array(['CCP7'], dtype='<U4'),\n",
       "       array(['CCP5'], dtype='<U4'), array(['CCP3'], dtype='<U4'),\n",
       "       array(['CCP1'], dtype='<U4'), array(['CCP2'], dtype='<U4'),\n",
       "       array(['CCP4'], dtype='<U4'), array(['CCP6'], dtype='<U4'),\n",
       "       array(['CCP8'], dtype='<U4'), array(['CP5'], dtype='<U3'),\n",
       "       array(['CP3'], dtype='<U3'), array(['CP1'], dtype='<U3'),\n",
       "       array(['CPz'], dtype='<U3'), array(['CP2'], dtype='<U3'),\n",
       "       array(['CP4'], dtype='<U3'), array(['CP6'], dtype='<U3'),\n",
       "       array(['P5'], dtype='<U2'), array(['P3'], dtype='<U2'),\n",
       "       array(['P1'], dtype='<U2'), array(['Pz'], dtype='<U2'),\n",
       "       array(['P2'], dtype='<U2'), array(['P4'], dtype='<U2'),\n",
       "       array(['P6'], dtype='<U2'), array(['PO1'], dtype='<U3'),\n",
       "       array(['PO2'], dtype='<U3'), array(['O1'], dtype='<U2'),\n",
       "       array(['O2'], dtype='<U2')], dtype=object)"
      ]
     },
     "execution_count": 45,
     "metadata": {},
     "output_type": "execute_result"
    }
   ],
   "source": [
    "clab = data_calib_a[\"nfo\"][\"clab\"][0][0][0]\n",
    "clab"
   ]
  },
  {
   "cell_type": "code",
   "execution_count": 48,
   "id": "bb732b79",
   "metadata": {},
   "outputs": [
    {
     "data": {
      "text/plain": [
       "(59,)"
      ]
     },
     "execution_count": 48,
     "metadata": {},
     "output_type": "execute_result"
    }
   ],
   "source": [
    "clab.shape"
   ]
  },
  {
   "cell_type": "markdown",
   "id": "cd277d97",
   "metadata": {},
   "source": [
    "Flatten clab and remove the type"
   ]
  },
  {
   "cell_type": "code",
   "execution_count": 63,
   "id": "8e05ec1b",
   "metadata": {},
   "outputs": [
    {
     "data": {
      "text/plain": [
       "array(['AF3', 'AF4', 'F5', 'F3', 'F1', 'Fz', 'F2', 'F4', 'F6', 'FC5',\n",
       "       'FC3', 'FC1', 'FCz', 'FC2', 'FC4', 'FC6', 'CFC7', 'CFC5', 'CFC3',\n",
       "       'CFC1', 'CFC2', 'CFC4', 'CFC6', 'CFC8', 'T7', 'C5', 'C3', 'C1',\n",
       "       'Cz', 'C2', 'C4', 'C6', 'T8', 'CCP7', 'CCP5', 'CCP3', 'CCP1',\n",
       "       'CCP2', 'CCP4', 'CCP6', 'CCP8', 'CP5', 'CP3', 'CP1', 'CPz', 'CP2',\n",
       "       'CP4', 'CP6', 'P5', 'P3', 'P1', 'Pz', 'P2', 'P4', 'P6', 'PO1',\n",
       "       'PO2', 'O1', 'O2'], dtype='<U4')"
      ]
     },
     "execution_count": 63,
     "metadata": {},
     "output_type": "execute_result"
    }
   ],
   "source": [
    "clab_flatten = np.concatenate(clab).ravel()\n",
    "clab_flatten"
   ]
  },
  {
   "cell_type": "markdown",
   "id": "9fd48435",
   "metadata": {},
   "source": [
    "## xpos and ypos of electrodes in a 2d-projection"
   ]
  },
  {
   "cell_type": "code",
   "execution_count": 34,
   "id": "53a243a1",
   "metadata": {},
   "outputs": [
    {
     "data": {
      "text/plain": [
       "array([[-0.20109028,  0.68656518],\n",
       "       [ 0.20109028,  0.68656518],\n",
       "       [-0.48547489,  0.52547424],\n",
       "       [-0.32894737,  0.46520183],\n",
       "       [-0.16535231,  0.43208641],\n",
       "       [ 0.        ,  0.421549  ],\n",
       "       [ 0.16535231,  0.43208641],\n",
       "       [ 0.32894737,  0.46520183],\n",
       "       [ 0.48547489,  0.52547424],\n",
       "       [-0.60591541,  0.27165704],\n",
       "       [-0.39919579,  0.23384348],\n",
       "       [-0.19765935,  0.21394494],\n",
       "       [ 0.        ,  0.20773757],\n",
       "       [ 0.19765935,  0.21394494],\n",
       "       [ 0.39919579,  0.23384348],\n",
       "       [ 0.60591541,  0.27165704],\n",
       "       [-0.74834683,  0.15177169],\n",
       "       [-0.52472976,  0.12553103],\n",
       "       [-0.30963911,  0.11086096],\n",
       "       [-0.10226303,  0.10426648],\n",
       "       [ 0.10226303,  0.10426648],\n",
       "       [ 0.30963911,  0.11086096],\n",
       "       [ 0.52472976,  0.12553103],\n",
       "       [ 0.74834683,  0.15177169],\n",
       "       [-0.87719298,  0.        ],\n",
       "       [-0.64569058,  0.        ],\n",
       "       [-0.421549  ,  0.        ],\n",
       "       [-0.20773757,  0.        ],\n",
       "       [ 0.        ,  0.        ],\n",
       "       [ 0.20773757,  0.        ],\n",
       "       [ 0.421549  ,  0.        ],\n",
       "       [ 0.64569058,  0.        ],\n",
       "       [ 0.87719298,  0.        ],\n",
       "       [-0.74834683, -0.15177169],\n",
       "       [-0.52472976, -0.12553103],\n",
       "       [-0.30963911, -0.11086096],\n",
       "       [-0.10226303, -0.10426648],\n",
       "       [ 0.10226303, -0.10426648],\n",
       "       [ 0.30963911, -0.11086096],\n",
       "       [ 0.52472976, -0.12553103],\n",
       "       [ 0.74834683, -0.15177169],\n",
       "       [-0.60591541, -0.27165704],\n",
       "       [-0.39919579, -0.23384348],\n",
       "       [-0.19765935, -0.21394494],\n",
       "       [ 0.        , -0.20773757],\n",
       "       [ 0.19765935, -0.21394494],\n",
       "       [ 0.39919579, -0.23384348],\n",
       "       [ 0.60591541, -0.27165704],\n",
       "       [-0.48547489, -0.52547424],\n",
       "       [-0.32894737, -0.46520183],\n",
       "       [-0.16535231, -0.43208641],\n",
       "       [ 0.        , -0.421549  ],\n",
       "       [ 0.16535231, -0.43208641],\n",
       "       [ 0.32894737, -0.46520183],\n",
       "       [ 0.48547489, -0.52547424],\n",
       "       [-0.10395865, -0.65583812],\n",
       "       [ 0.10395865, -0.65583812],\n",
       "       [-0.17113186, -0.86033797],\n",
       "       [ 0.17113186, -0.86033797]])"
      ]
     },
     "execution_count": 34,
     "metadata": {},
     "output_type": "execute_result"
    }
   ],
   "source": [
    "position = np.concatenate((data_calib_a[\"nfo\"][\"xpos\"][0][0], data_calib_a[\"nfo\"][\"ypos\"][0][0]), axis = 1)\n",
    "position"
   ]
  },
  {
   "cell_type": "markdown",
   "id": "08d0d170",
   "metadata": {},
   "source": [
    "## Postion and label"
   ]
  },
  {
   "cell_type": "code",
   "execution_count": 66,
   "id": "6454bbe5",
   "metadata": {},
   "outputs": [
    {
     "data": {
      "text/plain": [
       "array([['-0.20109028464758363', '0.6865651771052461', 'AF3'],\n",
       "       ['0.20109028464758363', '0.6865651771052461', 'AF4'],\n",
       "       ['-0.48547489245766257', '0.5254742370339627', 'F5'],\n",
       "       ['-0.32894736842105265', '0.4652018297279918', 'F3'],\n",
       "       ['-0.16535230938896844', '0.43208640720881303', 'F1'],\n",
       "       ['0.0', '0.4215490013382115', 'Fz'],\n",
       "       ['0.16535230938896844', '0.43208640720881303', 'F2'],\n",
       "       ['0.32894736842105265', '0.4652018297279918', 'F4'],\n",
       "       ['0.48547489245766257', '0.5254742370339627', 'F6'],\n",
       "       ['-0.605915412132058', '0.2716570424217247', 'FC5'],\n",
       "       ['-0.39919578789655963', '0.23384347850759124', 'FC3'],\n",
       "       ['-0.1976593484504406', '0.21394493707763337', 'FC1'],\n",
       "       ['0.0', '0.20773756505037197', 'FCz'],\n",
       "       ['0.1976593484504406', '0.21394493707763337', 'FC2'],\n",
       "       ['0.39919578789655963', '0.23384347850759124', 'FC4'],\n",
       "       ['0.605915412132058', '0.2716570424217247', 'FC6'],\n",
       "       ['-0.7483468341419532', '0.15177169088329834', 'CFC7'],\n",
       "       ['-0.5247297565962373', '0.1255310315311084', 'CFC5'],\n",
       "       ['-0.30963911235797154', '0.11086095908649396', 'CFC3'],\n",
       "       ['-0.10226302831631562', '0.1042664794829223', 'CFC1'],\n",
       "       ['0.10226302831631562', '0.1042664794829223', 'CFC2'],\n",
       "       ['0.30963911235797154', '0.11086095908649396', 'CFC4'],\n",
       "       ['0.5247297565962373', '0.1255310315311084', 'CFC6'],\n",
       "       ['0.7483468341419532', '0.15177169088329834', 'CFC8'],\n",
       "       ['-0.8771929824561404', '0.0', 'T7'],\n",
       "       ['-0.6456905834155688', '0.0', 'C5'],\n",
       "       ['-0.4215490013382115', '0.0', 'C3'],\n",
       "       ['-0.20773756505037197', '0.0', 'C1'],\n",
       "       ['0.0', '0.0', 'Cz'],\n",
       "       ['0.20773756505037197', '0.0', 'C2'],\n",
       "       ['0.4215490013382115', '0.0', 'C4'],\n",
       "       ['0.6456905834155688', '0.0', 'C6'],\n",
       "       ['0.8771929824561404', '0.0', 'T8'],\n",
       "       ['-0.7483468341419532', '-0.15177169088329834', 'CCP7'],\n",
       "       ['-0.5247297565962373', '-0.1255310315311084', 'CCP5'],\n",
       "       ['-0.30963911235797154', '-0.11086095908649396', 'CCP3'],\n",
       "       ['-0.10226302831631562', '-0.1042664794829223', 'CCP1'],\n",
       "       ['0.10226302831631562', '-0.1042664794829223', 'CCP2'],\n",
       "       ['0.30963911235797154', '-0.11086095908649396', 'CCP4'],\n",
       "       ['0.5247297565962373', '-0.1255310315311084', 'CCP6'],\n",
       "       ['0.7483468341419532', '-0.15177169088329834', 'CCP8'],\n",
       "       ['-0.605915412132058', '-0.2716570424217247', 'CP5'],\n",
       "       ['-0.39919578789655963', '-0.23384347850759124', 'CP3'],\n",
       "       ['-0.1976593484504406', '-0.21394493707763337', 'CP1'],\n",
       "       ['0.0', '-0.20773756505037197', 'CPz'],\n",
       "       ['0.1976593484504406', '-0.21394493707763337', 'CP2'],\n",
       "       ['0.39919578789655963', '-0.23384347850759124', 'CP4'],\n",
       "       ['0.605915412132058', '-0.2716570424217247', 'CP6'],\n",
       "       ['-0.48547489245766257', '-0.5254742370339627', 'P5'],\n",
       "       ['-0.32894736842105265', '-0.4652018297279918', 'P3'],\n",
       "       ['-0.16535230938896844', '-0.43208640720881303', 'P1'],\n",
       "       ['0.0', '-0.4215490013382115', 'Pz'],\n",
       "       ['0.16535230938896844', '-0.43208640720881303', 'P2'],\n",
       "       ['0.32894736842105265', '-0.4652018297279918', 'P4'],\n",
       "       ['0.48547489245766257', '-0.5254742370339627', 'P6'],\n",
       "       ['-0.10395864942009443', '-0.6558381161286909', 'PO1'],\n",
       "       ['0.10395864942009443', '-0.6558381161286909', 'PO2'],\n",
       "       ['-0.17113186141765643', '-0.8603379652659916', 'O1'],\n",
       "       ['0.17113186141765643', '-0.8603379652659916', 'O2']], dtype='<U32')"
      ]
     },
     "execution_count": 66,
     "metadata": {},
     "output_type": "execute_result"
    }
   ],
   "source": [
    "postion_clap = np.concatenate((position, clab_flatten.reshape(-1,1)), axis = 1)\n",
    "postion_clap"
   ]
  },
  {
   "cell_type": "markdown",
   "id": "8e6209bb",
   "metadata": {},
   "source": [
    "## Merging cnt with sensor label"
   ]
  }
 ],
 "metadata": {
  "kernelspec": {
   "display_name": "Python 3 (ipykernel)",
   "language": "python",
   "name": "python3"
  },
  "language_info": {
   "codemirror_mode": {
    "name": "ipython",
    "version": 3
   },
   "file_extension": ".py",
   "mimetype": "text/x-python",
   "name": "python",
   "nbconvert_exporter": "python",
   "pygments_lexer": "ipython3",
   "version": "3.9.7"
  },
  "toc": {
   "base_numbering": 1,
   "nav_menu": {},
   "number_sections": true,
   "sideBar": true,
   "skip_h1_title": false,
   "title_cell": "Table of Contents",
   "title_sidebar": "Contents",
   "toc_cell": false,
   "toc_position": {},
   "toc_section_display": true,
   "toc_window_display": false
  },
  "varInspector": {
   "cols": {
    "lenName": 16,
    "lenType": 16,
    "lenVar": 40
   },
   "kernels_config": {
    "python": {
     "delete_cmd_postfix": "",
     "delete_cmd_prefix": "del ",
     "library": "var_list.py",
     "varRefreshCmd": "print(var_dic_list())"
    },
    "r": {
     "delete_cmd_postfix": ") ",
     "delete_cmd_prefix": "rm(",
     "library": "var_list.r",
     "varRefreshCmd": "cat(var_dic_list()) "
    }
   },
   "types_to_exclude": [
    "module",
    "function",
    "builtin_function_or_method",
    "instance",
    "_Feature"
   ],
   "window_display": false
  }
 },
 "nbformat": 4,
 "nbformat_minor": 5
}
